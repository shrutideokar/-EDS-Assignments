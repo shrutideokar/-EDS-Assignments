{
  "nbformat": 4,
  "nbformat_minor": 0,
  "metadata": {
    "colab": {
      "provenance": [],
      "authorship_tag": "ABX9TyNBQzf9yUjwFmnSwedb+N3l"
    },
    "kernelspec": {
      "name": "python3",
      "display_name": "Python 3"
    },
    "language_info": {
      "name": "python"
    }
  },
  "cells": [
    {
      "cell_type": "code",
      "execution_count": null,
      "metadata": {
        "colab": {
          "base_uri": "https://localhost:8080/"
        },
        "id": "PWFlR1B1fJa5",
        "outputId": "97cf8f0b-2936-4ac8-c216-e7553660e8a5"
      },
      "outputs": [
        {
          "output_type": "stream",
          "name": "stdout",
          "text": [
            "{'Product ID': 'Supplier Details', 'P00001': 'Raka Ele.', 'P00002': 'Vijay Sales', 'P00003': 'Gada Ele.', 'P00004': 'Surya Ele.', 'P00005': 'Raka Ele.', 'P00006': 'Gada Ele.', 'P00007': 'Vijay Sales', 'P00008': 'Surya Ele.', 'P00009': 'Raka Ele.', 'P00010': 'Gada Ele.', 'P00011': 'Surya Ele.', 'P00012': 'Raka Ele.', 'P00013': 'Surya Ele.', 'P00014': 'Raka Ele.', 'P00015': 'Gada Ele.', 'P00016': 'Vijay Sales', 'P00017': 'Deshmukh sales', 'P00018': 'Raka Ele.', 'P00019': 'Deshmukh sales', 'P00020': 'Gada Ele.'}\n",
            "{'Customer Details': 'Gender', 'Kaustubh Mahajan': 'Male', 'Siddhi Kiwale': 'Female', 'Sanket Kandalkar': 'Male', 'Yash Mali': 'Male', 'Yash Bagul': 'Male', 'Tanuja Mali': 'Female'}\n"
          ]
        }
      ],
      "source": [
        "import csv\n",
        "f1=open(\"/content/Sales (2).csv\",\"r\")\n",
        "productid=[]\n",
        "productdetails=[]\n",
        "customerdetails=[]\n",
        "supplierdetails={}\n",
        "gender={}\n",
        "\n",
        "d1=list(csv.reader(f1,delimiter=','))\n",
        "for i in range(len(d1)):\n",
        "  productid.append(d1[i][0])\n",
        "  productdetails.append(d1[i][1])\n",
        "  customerdetails.append(d1[i][3])\n",
        "  supplierdetails.update({d1[i][0]:d1[i][2]})\n",
        "  gender.update({d1[i][3]:d1[i][4]})\n",
        "\n",
        "#print(productid)\n",
        "#print(productdetails)\n",
        "#print(customerdetails)\n",
        "print(supplierdetails)\n",
        "print(gender)\n"
      ]
    },
    {
      "cell_type": "code",
      "source": [
        "frequency={}\n",
        "for item in productdetails:\n",
        "  if item in frequency:\n",
        "    frequency[item]=frequency[item]+1\n",
        "  else:\n",
        "    frequency[item]=1\n",
        "print(frequency)\n",
        "marklist=sorted(frequency.items(),key=lambda x:x[1],reverse=True)\n",
        "\n",
        "sortdict=dict(marklist)\n",
        "print(sortdict)\n",
        "print(\"The most popular product for sales:\",list(sortdict.keys())[0],\"sold\",list(sortdict.values())[0],\"times\")"
      ],
      "metadata": {
        "colab": {
          "base_uri": "https://localhost:8080/"
        },
        "id": "voxwByO2sOiy",
        "outputId": "a6042ce5-80ad-49d8-c952-41ceae9f7e61"
      },
      "execution_count": null,
      "outputs": [
        {
          "output_type": "stream",
          "name": "stdout",
          "text": [
            "{'Product details': 1, 'Lenovo Laptop': 6, 'Samsung M31': 5, 'Realmi 10pro': 2, 'Oppo F21': 3, 'LG TV 32\"': 4}\n",
            "{'Lenovo Laptop': 6, 'Samsung M31': 5, 'LG TV 32\"': 4, 'Oppo F21': 3, 'Realmi 10pro': 2, 'Product details': 1}\n",
            "The most popular product for sales: Lenovo Laptop sold 6 times\n"
          ]
        }
      ]
    },
    {
      "cell_type": "code",
      "source": [
        "frequency={}\n",
        "for item in supplierdetails.values():\n",
        "  if item in frequency:\n",
        "    frequency[item] +=1\n",
        "  else:\n",
        "    frequency[item]=1\n",
        "print(frequency)\n",
        "namelist=sorted(frequency.items(),key=lambda x:x[1],reverse=True)\n",
        "sortdict=dict(namelist)\n",
        "print(sortdict)\n",
        "print(\"The most frequent customer is:\",list(sortdict.keys())[0],\"and purchased item\",list(sortdict.values())[0],\"times\")"
      ],
      "metadata": {
        "colab": {
          "base_uri": "https://localhost:8080/"
        },
        "id": "B98JvK5qzi_w",
        "outputId": "7b6091b7-38dd-4d4e-d59f-df217728c4bf"
      },
      "execution_count": null,
      "outputs": [
        {
          "output_type": "stream",
          "name": "stdout",
          "text": [
            "{'Supplier Details': 1, 'Raka Ele.': 6, 'Vijay Sales': 3, 'Gada Ele.': 5, 'Surya Ele.': 4, 'Deshmukh sales': 2}\n",
            "{'Raka Ele.': 6, 'Gada Ele.': 5, 'Surya Ele.': 4, 'Vijay Sales': 3, 'Deshmukh sales': 2, 'Supplier Details': 1}\n",
            "The most frequent customer is: Raka Ele. and purchased item 6 times\n"
          ]
        }
      ]
    },
    {
      "cell_type": "code",
      "source": [
        "frequency={}\n",
        "for item in gender.values():\n",
        "  if item in frequency:\n",
        "    frequency[item] += 1\n",
        "  else:\n",
        "    frequency[item]=1\n",
        "print(frequency)\n",
        "genderlist=sorted(frequency.items(),key= lambda x:x[1],reverse=True)\n",
        "print(\"The number of customers who are Female:\",list(frequency.values())[2])\n",
        "print(\"The number of customers who are Male:\",list(frequency.values())[1])"
      ],
      "metadata": {
        "id": "RmtpQDrtvFKc",
        "colab": {
          "base_uri": "https://localhost:8080/"
        },
        "outputId": "cdc14113-52a4-4223-fd38-0d9830219563"
      },
      "execution_count": null,
      "outputs": [
        {
          "output_type": "stream",
          "name": "stdout",
          "text": [
            "{'Gender': 1, 'Male': 4, 'Female': 2}\n",
            "The number of customers who are Female: 2\n",
            "The number of customers who are Male: 4\n"
          ]
        }
      ]
    }
  ]
}