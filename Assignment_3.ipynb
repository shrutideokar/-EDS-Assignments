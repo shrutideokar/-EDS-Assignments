{
  "nbformat": 4,
  "nbformat_minor": 0,
  "metadata": {
    "colab": {
      "provenance": [],
      "authorship_tag": "ABX9TyMCxpunJH25l33TXT/I6P2W"
    },
    "kernelspec": {
      "name": "python3",
      "display_name": "Python 3"
    },
    "language_info": {
      "name": "python"
    }
  },
  "cells": [
    {
      "cell_type": "code",
      "execution_count": 1,
      "metadata": {
        "colab": {
          "base_uri": "https://localhost:8080/"
        },
        "id": "EzT84TURBc0v",
        "outputId": "53715a07-0d68-499d-8fe6-892111b87910"
      },
      "outputs": [
        {
          "output_type": "stream",
          "name": "stdout",
          "text": [
            "These are all the matrix operations:\n",
            "Transpose:\n",
            " [[20 85]\n",
            " [22 90]\n",
            " [19 78]\n",
            " [21 92]]\n",
            "Sum: 427\n",
            "Mean: 53.375\n",
            "Product: 9637611984000\n"
          ]
        }
      ],
      "source": [
        "import numpy as np\n",
        "#dataset\n",
        "names=np.array(['John','Emma','Michael','Sophia'])\n",
        "ages=np.array([20,22,19,21])\n",
        "genders=np.array(['M','F','M','F'])\n",
        "marks=np.array([85,90,78,92])\n",
        "\n",
        "#All Matrix operations\n",
        "matrix = np.array([ages, marks ])\n",
        "transposed_matrix = np.transpose(matrix)\n",
        "matrix_sum = np. sum(matrix)\n",
        "matrix_mean = np.mean(matrix)\n",
        "matrix_product = np.prod(matrix)\n",
        "\n",
        "print(\"These are all the matrix operations:\")\n",
        "print(\"Transpose:\\n\",transposed_matrix)\n",
        "print(\"Sum:\",matrix_sum)\n",
        "print(\"Mean:\",matrix_mean)\n",
        "print(\"Product:\",matrix_product)"
      ]
    },
    {
      "cell_type": "code",
      "source": [
        "#Horizontal and Vertical stacking of numpy array\n",
        "names=np.array(['John','Emma','Michael','Sophia'])\n",
        "ages=np.array([20,22,19,21])\n",
        "genders=np.array(['M','F','M','F'])\n",
        "marks=np.array([85,90,78,92])\n",
        "\n",
        "# Horizontal\n",
        "horizontal_stack = np.hstack((names,ages,genders,marks))\n",
        "# Vertical\n",
        "vertical_stack = np.vstack((names,ages,genders,marks))\n",
        "\n",
        "print(\"Horizontal:\",horizontal_stack)\n",
        "print(\"======================================\")\n",
        "print(\"Vertical:\",vertical_stack)\n",
        "print(\"======================================\")\n",
        "\n"
      ],
      "metadata": {
        "colab": {
          "base_uri": "https://localhost:8080/"
        },
        "id": "hpqVH7jEIp6N",
        "outputId": "58c692a2-dc47-4669-ea66-69f209287679"
      },
      "execution_count": null,
      "outputs": [
        {
          "output_type": "stream",
          "name": "stdout",
          "text": [
            "Horizontal: ['John' 'Emma' 'Michael' 'Sophia' '20' '22' '19' '21' 'M' 'F' 'M' 'F' '85'\n",
            " '90' '78' '92']\n",
            "======================================\n",
            "Vertical: [['John' 'Emma' 'Michael' 'Sophia']\n",
            " ['20' '22' '19' '21']\n",
            " ['M' 'F' 'M' 'F']\n",
            " ['85' '90' '78' '92']]\n",
            "======================================\n"
          ]
        }
      ]
    },
    {
      "cell_type": "code",
      "source": [
        "#Arithmetic and statistical operations\n",
        "names=np.array(['John','Emma','Michael','Sophia'])\n",
        "ages=np.array([20,22,19,21])\n",
        "genders=np.array(['M','F','M','F'])\n",
        "marks=np.array([85,90,78,92])\n",
        "\n",
        "# Arithmetic and statistical operations\n",
        "addition = np.add(ages, marks)\n",
        "subtraction= np.subtract(ages, marks)\n",
        "mean = np.mean(marks)\n",
        "std_dev = np.std(marks)\n",
        "variance = np.var(marks)\n",
        "\n",
        "print(\"Airthematic and statistical operation\")\n",
        "print(\"======================================\")\n",
        "print(\"Addition:\",addition)\n",
        "print(\"======================================\")\n",
        "print(\"Subtraction:\",subtraction)\n",
        "print(\"======================================\")\n",
        "print(\"Mean:\",mean)\n",
        "print(\"======================================\")\n",
        "print(\"Standard Deviation:\",std_dev)\n",
        "print(\"======================================\")\n",
        "print(\"Variance:\",variance)\n",
        "print(\"======================================\")"
      ],
      "metadata": {
        "colab": {
          "base_uri": "https://localhost:8080/"
        },
        "id": "0OJ-2B-5JNbe",
        "outputId": "33bb92f2-f5c2-4aab-9112-25dcc4778704"
      },
      "execution_count": null,
      "outputs": [
        {
          "output_type": "stream",
          "name": "stdout",
          "text": [
            "Airthematic and statistical operation\n",
            "======================================\n",
            "Addition: [105 112  97 113]\n",
            "======================================\n",
            "Subtraction: [-65 -68 -59 -71]\n",
            "======================================\n",
            "Mean: 86.25\n",
            "======================================\n",
            "Standard Deviation: 5.402545696243577\n",
            "======================================\n",
            "Variance: 29.1875\n",
            "======================================\n"
          ]
        }
      ]
    },
    {
      "cell_type": "code",
      "source": [],
      "metadata": {
        "id": "xO_8MUc4QoFf"
      },
      "execution_count": null,
      "outputs": []
    },
    {
      "cell_type": "code",
      "source": [
        "#Mathematical operations\n",
        "names=np.array(['John','Emma','Michael','Sophia'])\n",
        "ages=np.array([20,22,19,21])\n",
        "genders=np.array(['M','F','M','F'])\n",
        "marks=np.array([85,90,78,92])\n",
        "\n",
        "# mathematical operations\n",
        "squared = np.square(marks)\n",
        "square_root =np.sqrt(marks)\n",
        "logarithm = np.log(marks)\n",
        "\n",
        "print(\"Mathematical Operations\")\n",
        "print(\"======================================\")\n",
        "print(\"Squared:\",squared)\n",
        "print(\"======================================\")\n",
        "print(\"Square Root:\",square_root)\n",
        "print(\"======================================\")\n",
        "print(\"Logarithm:\",logarithm)\n",
        "print(\"======================================\")"
      ],
      "metadata": {
        "colab": {
          "base_uri": "https://localhost:8080/"
        },
        "id": "7xUCsIHIKG_f",
        "outputId": "167829a5-f6eb-409c-cc61-e60cf8a50cda"
      },
      "execution_count": null,
      "outputs": [
        {
          "output_type": "stream",
          "name": "stdout",
          "text": [
            "Mathematical Operations\n",
            "======================================\n",
            "Squared: [7225 8100 6084 8464]\n",
            "======================================\n",
            "Square Root: [9.21954446 9.48683298 8.83176087 9.59166305]\n",
            "======================================\n",
            "Logarithm: [4.44265126 4.49980967 4.35670883 4.52178858]\n",
            "======================================\n"
          ]
        }
      ]
    },
    {
      "cell_type": "code",
      "source": [
        "#Bitwise operators\n",
        "names=np.array(['John','Emma','Michael','Sophia'])\n",
        "ages=np.array([20,22,19,21])\n",
        "genders=np.array(['M','F','M','F'])\n",
        "marks=np.array([85,90,78,92])\n",
        "\n",
        "\n",
        "# Bitwise operators\n",
        "bitwise_and = np.bitwise_and(ages, marks)\n",
        "bitwise_or = np.bitwise_or(ages, marks)\n",
        "bitwise_xor = np.bitwise_xor(ages, marks)\n",
        "bitwise_not = np.bitwise_not(ages, marks)\n",
        "\n",
        "print('Bitwise Operator:')\n",
        "print(\"======================================\")\n",
        "print(\"Bitwise AND:\",bitwise_and)\n",
        "print(\"======================================\")\n",
        "print(\"Bitwise OR:\",bitwise_or)\n",
        "print(\"======================================\")\n",
        "print(\"Bitwise XOR:\",bitwise_xor)\n",
        "print(\"======================================\")\n",
        "print('Bitwise NOT:',bitwise_not)\n",
        "print(\"======================================\")\n"
      ],
      "metadata": {
        "colab": {
          "base_uri": "https://localhost:8080/"
        },
        "id": "vqY9Sex2LDus",
        "outputId": "c31d71b3-5afd-4ec7-bca8-e482847b6148"
      },
      "execution_count": null,
      "outputs": [
        {
          "output_type": "stream",
          "name": "stdout",
          "text": [
            "Bitwise Operator:\n",
            "======================================\n",
            "Bitwise AND: [20 18  2 20]\n",
            "======================================\n",
            "Bitwise OR: [85 94 95 93]\n",
            "======================================\n",
            "Bitwise XOR: [65 76 93 73]\n",
            "======================================\n",
            "Bitwise NOT: [-21 -23 -20 -22]\n",
            "======================================\n"
          ]
        }
      ]
    },
    {
      "cell_type": "code",
      "source": [
        "#Copying and viewing arrays\n",
        "names=np.array(['John','Emma','Michael','Sophia'])\n",
        "ages=np.array([20,22,19,21])\n",
        "genders=np.array(['M','F','M','F'])\n",
        "marks=np.array([85,90,78,92])\n",
        "\n",
        "# Copying and viewing arrays\n",
        "marks_copy = marks. copy()\n",
        "marks_view = marks. view()\n",
        "\n",
        "print(\"Copying and Viewing:\")\n",
        "print(\"======================================\")\n",
        "print(\"copy:\",marks_copy)\n",
        "print(\"======================================\")\n",
        "print(\"View:\",marks_view)\n",
        "print(\"======================================\")"
      ],
      "metadata": {
        "colab": {
          "base_uri": "https://localhost:8080/"
        },
        "id": "oBnlQmFbL5ty",
        "outputId": "191261ba-b405-4120-9291-35b04f0ead0b"
      },
      "execution_count": null,
      "outputs": [
        {
          "output_type": "stream",
          "name": "stdout",
          "text": [
            "Copying and Viewing:\n",
            "======================================\n",
            "copy: [85 90 78 92]\n",
            "======================================\n",
            "View: [85 90 78 92]\n",
            "======================================\n"
          ]
        }
      ]
    },
    {
      "cell_type": "code",
      "source": [
        "#Data stacking, searching, sorting, counting, broadcasting\n",
        "names=np.array(['John','Emma','Michael','Sophia'])\n",
        "ages=np.array([20,22,19,21])\n",
        "genders=np.array(['M','F','M','F'])\n",
        "marks=np.array([85,90,78,92])\n",
        "\n",
        "# Data stacking, searching, sorting, counting, broadcasting\n",
        "stacked_data = np.column_stack((names, ages, genders, marks))\n",
        "search_index = np.where(names =='Emma')[0]\n",
        "sorted_names= np.sort(names)\n",
        "unique_names,unique_counts = np.unique(names, return_counts=True)\n",
        "broadcasted_array = np.broadcast_to(marks, (len(names), len(names)))\n",
        "\n",
        "print(\"Data stacking, searching, sorting, counting, broadcasting:\")\n",
        "print(\"======================================\")\n",
        "print(\"Stacked Data:\",stacked_data)\n",
        "print(\"======================================\")\n",
        "print(\"Search Index:\",search_index)\n",
        "print(\"======================================\")\n",
        "print(\"Sorted Names:\",sorted_names)\n",
        "print(\"======================================\")\n",
        "print(\"Unique Names:\",unique_names)\n",
        "print(\"======================================\")\n",
        "print(\"Broadcating Array:\",broadcasted_array)\n",
        "print(\"======================================\")"
      ],
      "metadata": {
        "colab": {
          "base_uri": "https://localhost:8080/"
        },
        "id": "N8lnzMkWMcVd",
        "outputId": "40b0c926-ccb1-422a-8ce2-ff6716b2e675"
      },
      "execution_count": null,
      "outputs": [
        {
          "output_type": "stream",
          "name": "stdout",
          "text": [
            "Data stacking, searching, sorting, counting, broadcasting:\n",
            "======================================\n",
            "Stacked Data: [['John' '20' 'M' '85']\n",
            " ['Emma' '22' 'F' '90']\n",
            " ['Michael' '19' 'M' '78']\n",
            " ['Sophia' '21' 'F' '92']]\n",
            "======================================\n",
            "Search Index: [1]\n",
            "======================================\n",
            "Sorted Names: ['Emma' 'John' 'Michael' 'Sophia']\n",
            "======================================\n",
            "Unique Names: ['Emma' 'John' 'Michael' 'Sophia']\n",
            "======================================\n",
            "Broadcating Array: [[85 90 78 92]\n",
            " [85 90 78 92]\n",
            " [85 90 78 92]\n",
            " [85 90 78 92]]\n",
            "======================================\n"
          ]
        }
      ]
    }
  ]
}